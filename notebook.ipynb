{
  "nbformat": 4,
  "nbformat_minor": 0,
  "metadata": {
    "colab": {
      "name": "notebook.ipynb",
      "provenance": [],
      "collapsed_sections": [],
      "toc_visible": true,
      "authorship_tag": "ABX9TyN4mQSMprxUkxO/RIq9ebHH",
      "include_colab_link": true
    },
    "kernelspec": {
      "name": "python3",
      "display_name": "Python 3"
    }
  },
  "cells": [
    {
      "cell_type": "markdown",
      "metadata": {
        "id": "view-in-github",
        "colab_type": "text"
      },
      "source": [
        "<a href=\"https://colab.research.google.com/github/ElPapi42/data-fresh/blob/master/notebook.ipynb\" target=\"_parent\"><img src=\"https://colab.research.google.com/assets/colab-badge.svg\" alt=\"Open In Colab\"/></a>"
      ]
    },
    {
      "cell_type": "code",
      "metadata": {
        "colab": {
          "base_uri": "https://localhost:8080/"
        },
        "id": "2gcyMYW9mH5M",
        "outputId": "05276fe0-d2ee-4897-c5d3-9799fa3eed5b"
      },
      "source": [
        "# Mount gdrive\n",
        "from google.colab import drive\n",
        "drive.mount(\"/content/drive\")"
      ],
      "execution_count": 1,
      "outputs": [
        {
          "output_type": "stream",
          "text": [
            "Mounted at /content/drive\n"
          ],
          "name": "stdout"
        }
      ]
    },
    {
      "cell_type": "code",
      "metadata": {
        "id": "1pl0_PKrwCkP"
      },
      "source": [
        "# Copy csv to notebook runtime storage\n",
        "!cp '/content/drive/MyDrive/Datasets/bitcoin_price.csv' '/content/bitcoin_price.csv'"
      ],
      "execution_count": 2,
      "outputs": []
    },
    {
      "cell_type": "code",
      "metadata": {
        "id": "jaEtPIMzwGbQ"
      },
      "source": [
        "from datetime import datetime\n",
        "\n",
        "import pandas as pd\n",
        "import seaborn as sn\n",
        "import matplotlib.pyplot as plt\n",
        "\n",
        "# Disable decimals for this notebook\n",
        "pd.set_option('display.float_format', lambda x: '%.3f' % x)"
      ],
      "execution_count": 85,
      "outputs": []
    },
    {
      "cell_type": "code",
      "metadata": {
        "id": "LcYNv7GWyNa3"
      },
      "source": [
        "# Load the dataset\n",
        "btc = pd.read_csv('/content/bitcoin_price.csv')"
      ],
      "execution_count": 4,
      "outputs": []
    },
    {
      "cell_type": "code",
      "metadata": {
        "colab": {
          "base_uri": "https://localhost:8080/",
          "height": 225
        },
        "id": "FlhOO1s0zkmP",
        "outputId": "0edaadb3-5a26-465c-9815-2a09a8e865af"
      },
      "source": [
        "# Preprocess MarketCap and volume from str to numeric type\n",
        "\n",
        "btc['Market Cap'] = btc['Market Cap'].map(lambda x: int(x.replace(',', '')))\n",
        "\n",
        "def cast_volume(value):\n",
        "    \"\"\"Casts a str volume to int safely.\"\"\"\n",
        "    value = value.replace(',', '')\n",
        "\n",
        "    if not value.isdigit():\n",
        "        return None\n",
        "\n",
        "    return int(value)\n",
        "\n",
        "btc['Volume'] = btc['Volume'].map(cast_volume)\n",
        "\n",
        "btc['Date'] = pd.to_datetime(btc['Date'])\n",
        "\n",
        "btc = btc.set_index('Date')\n",
        "\n",
        "btc = btc[::-1]\n",
        "\n",
        "btc = btc.reindex()\n",
        "\n",
        "btc.head()"
      ],
      "execution_count": 5,
      "outputs": [
        {
          "output_type": "execute_result",
          "data": {
            "text/html": [
              "<div>\n",
              "<style scoped>\n",
              "    .dataframe tbody tr th:only-of-type {\n",
              "        vertical-align: middle;\n",
              "    }\n",
              "\n",
              "    .dataframe tbody tr th {\n",
              "        vertical-align: top;\n",
              "    }\n",
              "\n",
              "    .dataframe thead th {\n",
              "        text-align: right;\n",
              "    }\n",
              "</style>\n",
              "<table border=\"1\" class=\"dataframe\">\n",
              "  <thead>\n",
              "    <tr style=\"text-align: right;\">\n",
              "      <th></th>\n",
              "      <th>Open</th>\n",
              "      <th>High</th>\n",
              "      <th>Low</th>\n",
              "      <th>Close</th>\n",
              "      <th>Volume</th>\n",
              "      <th>Market Cap</th>\n",
              "    </tr>\n",
              "    <tr>\n",
              "      <th>Date</th>\n",
              "      <th></th>\n",
              "      <th></th>\n",
              "      <th></th>\n",
              "      <th></th>\n",
              "      <th></th>\n",
              "      <th></th>\n",
              "    </tr>\n",
              "  </thead>\n",
              "  <tbody>\n",
              "    <tr>\n",
              "      <th>2013-04-28</th>\n",
              "      <td>135.300</td>\n",
              "      <td>135.980</td>\n",
              "      <td>132.100</td>\n",
              "      <td>134.210</td>\n",
              "      <td>nan</td>\n",
              "      <td>1500520000</td>\n",
              "    </tr>\n",
              "    <tr>\n",
              "      <th>2013-04-29</th>\n",
              "      <td>134.440</td>\n",
              "      <td>147.490</td>\n",
              "      <td>134.000</td>\n",
              "      <td>144.540</td>\n",
              "      <td>nan</td>\n",
              "      <td>1491160000</td>\n",
              "    </tr>\n",
              "    <tr>\n",
              "      <th>2013-04-30</th>\n",
              "      <td>144.000</td>\n",
              "      <td>146.930</td>\n",
              "      <td>134.050</td>\n",
              "      <td>139.000</td>\n",
              "      <td>nan</td>\n",
              "      <td>1597780000</td>\n",
              "    </tr>\n",
              "    <tr>\n",
              "      <th>2013-05-01</th>\n",
              "      <td>139.000</td>\n",
              "      <td>139.890</td>\n",
              "      <td>107.720</td>\n",
              "      <td>116.990</td>\n",
              "      <td>nan</td>\n",
              "      <td>1542820000</td>\n",
              "    </tr>\n",
              "    <tr>\n",
              "      <th>2013-05-02</th>\n",
              "      <td>116.380</td>\n",
              "      <td>125.600</td>\n",
              "      <td>92.280</td>\n",
              "      <td>105.210</td>\n",
              "      <td>nan</td>\n",
              "      <td>1292190000</td>\n",
              "    </tr>\n",
              "  </tbody>\n",
              "</table>\n",
              "</div>"
            ],
            "text/plain": [
              "              Open    High     Low   Close  Volume  Market Cap\n",
              "Date                                                          \n",
              "2013-04-28 135.300 135.980 132.100 134.210     nan  1500520000\n",
              "2013-04-29 134.440 147.490 134.000 144.540     nan  1491160000\n",
              "2013-04-30 144.000 146.930 134.050 139.000     nan  1597780000\n",
              "2013-05-01 139.000 139.890 107.720 116.990     nan  1542820000\n",
              "2013-05-02 116.380 125.600  92.280 105.210     nan  1292190000"
            ]
          },
          "metadata": {
            "tags": []
          },
          "execution_count": 5
        }
      ]
    },
    {
      "cell_type": "code",
      "metadata": {
        "colab": {
          "base_uri": "https://localhost:8080/"
        },
        "id": "_LE39-axdyy_",
        "outputId": "a731c10b-99ba-45cf-9b71-c10757e0676c"
      },
      "source": [
        "btc.dtypes"
      ],
      "execution_count": 6,
      "outputs": [
        {
          "output_type": "execute_result",
          "data": {
            "text/plain": [
              "Open          float64\n",
              "High          float64\n",
              "Low           float64\n",
              "Close         float64\n",
              "Volume        float64\n",
              "Market Cap      int64\n",
              "dtype: object"
            ]
          },
          "metadata": {
            "tags": []
          },
          "execution_count": 6
        }
      ]
    },
    {
      "cell_type": "code",
      "metadata": {
        "colab": {
          "base_uri": "https://localhost:8080/",
          "height": 284
        },
        "id": "85CPN13Ny2Hp",
        "outputId": "f6c0c3d9-c357-40e1-84fb-cc01beb76a26"
      },
      "source": [
        "btc.describe(datetime_is_numeric=True)"
      ],
      "execution_count": 7,
      "outputs": [
        {
          "output_type": "execute_result",
          "data": {
            "text/html": [
              "<div>\n",
              "<style scoped>\n",
              "    .dataframe tbody tr th:only-of-type {\n",
              "        vertical-align: middle;\n",
              "    }\n",
              "\n",
              "    .dataframe tbody tr th {\n",
              "        vertical-align: top;\n",
              "    }\n",
              "\n",
              "    .dataframe thead th {\n",
              "        text-align: right;\n",
              "    }\n",
              "</style>\n",
              "<table border=\"1\" class=\"dataframe\">\n",
              "  <thead>\n",
              "    <tr style=\"text-align: right;\">\n",
              "      <th></th>\n",
              "      <th>Open</th>\n",
              "      <th>High</th>\n",
              "      <th>Low</th>\n",
              "      <th>Close</th>\n",
              "      <th>Volume</th>\n",
              "      <th>Market Cap</th>\n",
              "    </tr>\n",
              "  </thead>\n",
              "  <tbody>\n",
              "    <tr>\n",
              "      <th>count</th>\n",
              "      <td>1760.000</td>\n",
              "      <td>1760.000</td>\n",
              "      <td>1760.000</td>\n",
              "      <td>1760.000</td>\n",
              "      <td>1517.000</td>\n",
              "      <td>1760.000</td>\n",
              "    </tr>\n",
              "    <tr>\n",
              "      <th>mean</th>\n",
              "      <td>1479.574</td>\n",
              "      <td>1536.991</td>\n",
              "      <td>1418.251</td>\n",
              "      <td>1485.747</td>\n",
              "      <td>995277049.848</td>\n",
              "      <td>23814544563.068</td>\n",
              "    </tr>\n",
              "    <tr>\n",
              "      <th>std</th>\n",
              "      <td>2950.457</td>\n",
              "      <td>3092.950</td>\n",
              "      <td>2780.859</td>\n",
              "      <td>2959.265</td>\n",
              "      <td>2989273963.629</td>\n",
              "      <td>49711849959.539</td>\n",
              "    </tr>\n",
              "    <tr>\n",
              "      <th>min</th>\n",
              "      <td>68.500</td>\n",
              "      <td>74.560</td>\n",
              "      <td>65.530</td>\n",
              "      <td>68.430</td>\n",
              "      <td>2857830.000</td>\n",
              "      <td>779255000.000</td>\n",
              "    </tr>\n",
              "    <tr>\n",
              "      <th>25%</th>\n",
              "      <td>274.730</td>\n",
              "      <td>279.857</td>\n",
              "      <td>268.640</td>\n",
              "      <td>274.875</td>\n",
              "      <td>22832500.000</td>\n",
              "      <td>3890227500.000</td>\n",
              "    </tr>\n",
              "    <tr>\n",
              "      <th>50%</th>\n",
              "      <td>480.715</td>\n",
              "      <td>495.195</td>\n",
              "      <td>472.510</td>\n",
              "      <td>482.810</td>\n",
              "      <td>56122400.000</td>\n",
              "      <td>6840475000.000</td>\n",
              "    </tr>\n",
              "    <tr>\n",
              "      <th>75%</th>\n",
              "      <td>870.085</td>\n",
              "      <td>900.222</td>\n",
              "      <td>831.683</td>\n",
              "      <td>871.370</td>\n",
              "      <td>203559000.000</td>\n",
              "      <td>12502025000.000</td>\n",
              "    </tr>\n",
              "    <tr>\n",
              "      <th>max</th>\n",
              "      <td>19475.800</td>\n",
              "      <td>20089.000</td>\n",
              "      <td>18974.100</td>\n",
              "      <td>19497.400</td>\n",
              "      <td>23840900000.000</td>\n",
              "      <td>326141000000.000</td>\n",
              "    </tr>\n",
              "  </tbody>\n",
              "</table>\n",
              "</div>"
            ],
            "text/plain": [
              "           Open      High       Low     Close          Volume       Market Cap\n",
              "count  1760.000  1760.000  1760.000  1760.000        1517.000         1760.000\n",
              "mean   1479.574  1536.991  1418.251  1485.747   995277049.848  23814544563.068\n",
              "std    2950.457  3092.950  2780.859  2959.265  2989273963.629  49711849959.539\n",
              "min      68.500    74.560    65.530    68.430     2857830.000    779255000.000\n",
              "25%     274.730   279.857   268.640   274.875    22832500.000   3890227500.000\n",
              "50%     480.715   495.195   472.510   482.810    56122400.000   6840475000.000\n",
              "75%     870.085   900.222   831.683   871.370   203559000.000  12502025000.000\n",
              "max   19475.800 20089.000 18974.100 19497.400 23840900000.000 326141000000.000"
            ]
          },
          "metadata": {
            "tags": []
          },
          "execution_count": 7
        }
      ]
    },
    {
      "cell_type": "markdown",
      "metadata": {
        "id": "z74TJLQKCVgf"
      },
      "source": [
        "We have Data from 2013 to 2018"
      ]
    },
    {
      "cell_type": "code",
      "metadata": {
        "colab": {
          "base_uri": "https://localhost:8080/"
        },
        "id": "bn8kjNTz2m8f",
        "outputId": "b8ffc8e9-39a5-4a95-c643-a91195bccf81"
      },
      "source": [
        "# Check for null values across the dataframe\n",
        "btc.isnull().sum()"
      ],
      "execution_count": 8,
      "outputs": [
        {
          "output_type": "execute_result",
          "data": {
            "text/plain": [
              "Open            0\n",
              "High            0\n",
              "Low             0\n",
              "Close           0\n",
              "Volume        243\n",
              "Market Cap      0\n",
              "dtype: int64"
            ]
          },
          "metadata": {
            "tags": []
          },
          "execution_count": 8
        }
      ]
    },
    {
      "cell_type": "markdown",
      "metadata": {
        "id": "r4aC0UItCdZE"
      },
      "source": [
        "Volume has some missing values, possible unparseable strings"
      ]
    },
    {
      "cell_type": "code",
      "metadata": {
        "colab": {
          "base_uri": "https://localhost:8080/",
          "height": 296
        },
        "id": "qCUSarnGBCxR",
        "outputId": "8325650d-fbe6-4e14-bfe3-4a5995ec35ee"
      },
      "source": [
        "sn.lineplot(data=btc, x=btc.index, y='Open')"
      ],
      "execution_count": 9,
      "outputs": [
        {
          "output_type": "execute_result",
          "data": {
            "text/plain": [
              "<matplotlib.axes._subplots.AxesSubplot at 0x7efcea1674e0>"
            ]
          },
          "metadata": {
            "tags": []
          },
          "execution_count": 9
        },
        {
          "output_type": "display_data",
          "data": {
            "image/png": "[encoded data removed]",
            "text/plain": [
              "<Figure size 432x288 with 1 Axes>"
            ]
          },
          "metadata": {
            "tags": [],
            "needs_background": "light"
          }
        }
      ]
    },
    {
      "cell_type": "markdown",
      "metadata": {
        "id": "s4MjzkhOEEWD"
      },
      "source": [
        "BTC Price started to boom at 2017 Q2"
      ]
    },
    {
      "cell_type": "markdown",
      "metadata": {
        "id": "XADVEJIaEUWf"
      },
      "source": [
        "lets review closely the 2017 pump"
      ]
    },
    {
      "cell_type": "code",
      "metadata": {
        "colab": {
          "base_uri": "https://localhost:8080/",
          "height": 308
        },
        "id": "qUIfEIskEJUw",
        "outputId": "8bf9bb14-98d3-4a81-d5e0-7f9b5799445e"
      },
      "source": [
        "btc['2017-06':].plot(y=['Close'], kind='line')"
      ],
      "execution_count": 10,
      "outputs": [
        {
          "output_type": "execute_result",
          "data": {
            "text/plain": [
              "<matplotlib.axes._subplots.AxesSubplot at 0x7efce9bca4a8>"
            ]
          },
          "metadata": {
            "tags": []
          },
          "execution_count": 10
        },
        {
          "output_type": "display_data",
          "data": {
            "image/png": "[encoded data removed]",
            "text/plain": [
              "<Figure size 432x288 with 1 Axes>"
            ]
          },
          "metadata": {
            "tags": [],
            "needs_background": "light"
          }
        }
      ]
    },
    {
      "cell_type": "code",
      "metadata": {
        "colab": {
          "base_uri": "https://localhost:8080/",
          "height": 319
        },
        "id": "4X5g9q6vTjEC",
        "outputId": "c991b438-f1a2-4d61-88e5-485a98e8b35b"
      },
      "source": [
        "btc['2017-06':].plot(y=['Volume'], kind='line')"
      ],
      "execution_count": 11,
      "outputs": [
        {
          "output_type": "execute_result",
          "data": {
            "text/plain": [
              "<matplotlib.axes._subplots.AxesSubplot at 0x7efce9b45e80>"
            ]
          },
          "metadata": {
            "tags": []
          },
          "execution_count": 11
        },
        {
          "output_type": "display_data",
          "data": {
            "image/png": "[encoded data removed]",
            "text/plain": [
              "<Figure size 432x288 with 1 Axes>"
            ]
          },
          "metadata": {
            "tags": [],
            "needs_background": "light"
          }
        }
      ]
    },
    {
      "cell_type": "markdown",
      "metadata": {
        "id": "4IvUWLiZ7x_I"
      },
      "source": [
        "Seems that transactions volume and market price are correlated, lets find how much"
      ]
    },
    {
      "cell_type": "code",
      "metadata": {
        "id": "JDleToDc75nY"
      },
      "source": [
        "close_pct = btc['Close']['2014':]\n",
        "close_pct = (close_pct - close_pct.min()) / (close_pct.max() - close_pct.min())\n",
        "close_pct = close_pct.rolling(window=180).mean().pct_change()\n",
        "\n",
        "volume_pct = btc['Volume']['2014':]\n",
        "volume_pct = (volume_pct - volume_pct.min()) / (volume_pct.max() - volume_pct.min())\n",
        "volume_pct = volume_pct.rolling(window=180).mean().pct_change()"
      ],
      "execution_count": 12,
      "outputs": []
    },
    {
      "cell_type": "code",
      "metadata": {
        "colab": {
          "base_uri": "https://localhost:8080/",
          "height": 296
        },
        "id": "4Drk6t5FWqjK",
        "outputId": "3980af5f-3267-46e0-e11f-9d083dc6f0b8"
      },
      "source": [
        "volume_pct.plot(kind='line')\n",
        "close_pct.plot(kind='line')"
      ],
      "execution_count": 13,
      "outputs": [
        {
          "output_type": "execute_result",
          "data": {
            "text/plain": [
              "<matplotlib.axes._subplots.AxesSubplot at 0x7efcea0b1940>"
            ]
          },
          "metadata": {
            "tags": []
          },
          "execution_count": 13
        },
        {
          "output_type": "display_data",
          "data": {
            "image/png": "[encoded data removed]",
            "text/plain": [
              "<Figure size 432x288 with 1 Axes>"
            ]
          },
          "metadata": {
            "tags": [],
            "needs_background": "light"
          }
        }
      ]
    },
    {
      "cell_type": "code",
      "metadata": {
        "colab": {
          "base_uri": "https://localhost:8080/"
        },
        "id": "oUo5Fz6xZA0q",
        "outputId": "a18c7254-7bee-4643-bc6e-4946d668821a"
      },
      "source": [
        "close_pct.corr(volume_pct)"
      ],
      "execution_count": 14,
      "outputs": [
        {
          "output_type": "execute_result",
          "data": {
            "text/plain": [
              "0.5329615258736072"
            ]
          },
          "metadata": {
            "tags": []
          },
          "execution_count": 14
        }
      ]
    },
    {
      "cell_type": "code",
      "metadata": {
        "colab": {
          "base_uri": "https://localhost:8080/",
          "height": 296
        },
        "id": "AhVEdnjZsM4p",
        "outputId": "c9a3f973-1944-4d71-9c1d-053a0615b584"
      },
      "source": [
        "sn.scatterplot(x=close_pct, y=volume_pct)"
      ],
      "execution_count": 15,
      "outputs": [
        {
          "output_type": "execute_result",
          "data": {
            "text/plain": [
              "<matplotlib.axes._subplots.AxesSubplot at 0x7efce867f160>"
            ]
          },
          "metadata": {
            "tags": []
          },
          "execution_count": 15
        },
        {
          "output_type": "display_data",
          "data": {
            "image/png": "[encoded data removed]",
            "text/plain": [
              "<Figure size 432x288 with 1 Axes>"
            ]
          },
          "metadata": {
            "tags": [],
            "needs_background": "light"
          }
        }
      ]
    },
    {
      "cell_type": "markdown",
      "metadata": {
        "id": "s8Ma37qCbN2L"
      },
      "source": [
        "We can a see a light correlation between transaction volume and price"
      ]
    },
    {
      "cell_type": "markdown",
      "metadata": {
        "id": "IKPMwUzuy-yf"
      },
      "source": [
        "Lets see how many days the price close higher than open"
      ]
    },
    {
      "cell_type": "code",
      "metadata": {
        "id": "pEa5atMyysrm",
        "outputId": "3f380efa-50ee-4b5e-fef8-fd93b3c976b3",
        "colab": {
          "base_uri": "https://localhost:8080/",
          "height": 296
        }
      },
      "source": [
        "daily_diff = btc['Close'] - btc['Open']\n",
        "daily_diff.plot()"
      ],
      "execution_count": 36,
      "outputs": [
        {
          "output_type": "execute_result",
          "data": {
            "text/plain": [
              "<matplotlib.axes._subplots.AxesSubplot at 0x7efcdfd17c50>"
            ]
          },
          "metadata": {
            "tags": []
          },
          "execution_count": 36
        },
        {
          "output_type": "display_data",
          "data": {
            "image/png": "[encoded data removed]",
            "text/plain": [
              "<Figure size 432x288 with 1 Axes>"
            ]
          },
          "metadata": {
            "tags": [],
            "needs_background": "light"
          }
        }
      ]
    },
    {
      "cell_type": "code",
      "metadata": {
        "id": "QlqscHgT2nly",
        "outputId": "88cc8473-3424-4199-f235-b661c2b2a8ab",
        "colab": {
          "base_uri": "https://localhost:8080/",
          "height": 301
        }
      },
      "source": [
        "(daily_diff > 0).value_counts().plot(kind='bar')"
      ],
      "execution_count": 47,
      "outputs": [
        {
          "output_type": "execute_result",
          "data": {
            "text/plain": [
              "<matplotlib.axes._subplots.AxesSubplot at 0x7efcdfbef518>"
            ]
          },
          "metadata": {
            "tags": []
          },
          "execution_count": 47
        },
        {
          "output_type": "display_data",
          "data": {
            "image/png": "[encoded data removed]",
            "text/plain": [
              "<Figure size 432x288 with 1 Axes>"
            ]
          },
          "metadata": {
            "tags": [],
            "needs_background": "light"
          }
        }
      ]
    },
    {
      "cell_type": "markdown",
      "metadata": {
        "id": "vxP65wL65Ei1"
      },
      "source": [
        "The btc market usually opens the same amount of times that closes. This can give better insight if we weight the opens/closes, lets see"
      ]
    },
    {
      "cell_type": "code",
      "metadata": {
        "id": "Wou56t0L5Rv6",
        "outputId": "c41cc126-51fe-40bd-a6cd-1ebb690c12cb",
        "colab": {
          "base_uri": "https://localhost:8080/",
          "height": 312
        }
      },
      "source": [
        "btc_diff = pd.DataFrame()\n",
        "btc_diff['Diff'] = daily_diff\n",
        "btc_diff['High'] = daily_diff > 0.0\n",
        "btc_diff = btc_diff.groupby(btc_diff['High']).sum()\n",
        "btc_diff = btc_diff.transform(lambda x: abs(x) / abs(daily_diff).sum())\n",
        "btc_diff.plot(kind='bar')"
      ],
      "execution_count": 99,
      "outputs": [
        {
          "output_type": "execute_result",
          "data": {
            "text/plain": [
              "<matplotlib.axes._subplots.AxesSubplot at 0x7efcd0412710>"
            ]
          },
          "metadata": {
            "tags": []
          },
          "execution_count": 99
        },
        {
          "output_type": "display_data",
          "data": {
            "image/png": "[encoded data removed]",
            "text/plain": [
              "<Figure size 432x288 with 1 Axes>"
            ]
          },
          "metadata": {
            "tags": [],
            "needs_background": "light"
          }
        }
      ]
    },
    {
      "cell_type": "markdown",
      "metadata": {
        "id": "KS76pCh-R4b0"
      },
      "source": [
        "We can observe daily price historic increase volume if slighltly higher than the decrease volume, we can say this is meaningless"
      ]
    }
  ]
}