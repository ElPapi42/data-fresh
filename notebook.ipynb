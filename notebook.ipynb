{
  "nbformat": 4,
  "nbformat_minor": 0,
  "metadata": {
    "colab": {
      "name": "notebook.ipynb",
      "provenance": [],
      "collapsed_sections": [],
      "toc_visible": true,
      "authorship_tag": "ABX9TyPVjpYpi0Hb0MYdMDNnO2WD",
      "include_colab_link": true
    },
    "kernelspec": {
      "name": "python3",
      "display_name": "Python 3"
    }
  },
  "cells": [
    {
      "cell_type": "markdown",
      "metadata": {
        "id": "view-in-github",
        "colab_type": "text"
      },
      "source": [
        "<a href=\"https://colab.research.google.com/github/ElPapi42/data-fresh/blob/master/notebook.ipynb\" target=\"_parent\"><img src=\"https://colab.research.google.com/assets/colab-badge.svg\" alt=\"Open In Colab\"/></a>"
      ]
    },
    {
      "cell_type": "code",
      "metadata": {
        "colab": {
          "base_uri": "https://localhost:8080/"
        },
        "id": "2gcyMYW9mH5M",
        "outputId": "7776a794-7cd9-4a45-b122-e25a22cfed11"
      },
      "source": [
        "# Mount gdrive\n",
        "from google.colab import drive\n",
        "drive.mount(\"/content/drive\")"
      ],
      "execution_count": 1,
      "outputs": [
        {
          "output_type": "stream",
          "text": [
            "Mounted at /content/drive\n"
          ],
          "name": "stdout"
        }
      ]
    },
    {
      "cell_type": "code",
      "metadata": {
        "id": "1pl0_PKrwCkP"
      },
      "source": [
        "# Copy csv to notebook runtime storage\n",
        "!cp '/content/drive/MyDrive/Datasets/bitcoin_price.csv' '/content/bitcoin_price.csv'"
      ],
      "execution_count": 2,
      "outputs": []
    },
    {
      "cell_type": "code",
      "metadata": {
        "id": "jaEtPIMzwGbQ"
      },
      "source": [
        "import pandas as pd\n",
        "\n",
        "# Disable decimals for this notebook\n",
        "pd.set_option('display.float_format', lambda x: '%.1f' % x)"
      ],
      "execution_count": 70,
      "outputs": []
    },
    {
      "cell_type": "code",
      "metadata": {
        "id": "LcYNv7GWyNa3"
      },
      "source": [
        "# Load the dataset\n",
        "btc = pd.read_csv('/content/bitcoin_price.csv')"
      ],
      "execution_count": 71,
      "outputs": []
    },
    {
      "cell_type": "code",
      "metadata": {
        "id": "FlhOO1s0zkmP"
      },
      "source": [
        "# Preprocess MarketCap and volume from str to numeric type\n",
        "\n",
        "btc['Market Cap'] = btc['Market Cap'].map(lambda x: int(x.replace(',', '')))\n",
        "\n",
        "def cast_volume(value):\n",
        "    \"\"\"Casts a str volume to int safely.\"\"\"\n",
        "    value = value.replace(',', '')\n",
        "\n",
        "    if not value.isdigit():\n",
        "        return None\n",
        "\n",
        "    return int(value)\n",
        "\n",
        "btc['Volume'] = btc['Volume'].map(cast_volume)"
      ],
      "execution_count": 72,
      "outputs": []
    },
    {
      "cell_type": "code",
      "metadata": {
        "colab": {
          "base_uri": "https://localhost:8080/",
          "height": 284
        },
        "id": "85CPN13Ny2Hp",
        "outputId": "ec8c5090-a646-498e-87d4-cb1003f6ad6f"
      },
      "source": [
        "btc.describe()"
      ],
      "execution_count": 73,
      "outputs": [
        {
          "output_type": "execute_result",
          "data": {
            "text/html": [
              "<div>\n",
              "<style scoped>\n",
              "    .dataframe tbody tr th:only-of-type {\n",
              "        vertical-align: middle;\n",
              "    }\n",
              "\n",
              "    .dataframe tbody tr th {\n",
              "        vertical-align: top;\n",
              "    }\n",
              "\n",
              "    .dataframe thead th {\n",
              "        text-align: right;\n",
              "    }\n",
              "</style>\n",
              "<table border=\"1\" class=\"dataframe\">\n",
              "  <thead>\n",
              "    <tr style=\"text-align: right;\">\n",
              "      <th></th>\n",
              "      <th>Open</th>\n",
              "      <th>High</th>\n",
              "      <th>Low</th>\n",
              "      <th>Close</th>\n",
              "      <th>Volume</th>\n",
              "      <th>Market Cap</th>\n",
              "    </tr>\n",
              "  </thead>\n",
              "  <tbody>\n",
              "    <tr>\n",
              "      <th>count</th>\n",
              "      <td>1760.0</td>\n",
              "      <td>1760.0</td>\n",
              "      <td>1760.0</td>\n",
              "      <td>1760.0</td>\n",
              "      <td>1517.0</td>\n",
              "      <td>1760.0</td>\n",
              "    </tr>\n",
              "    <tr>\n",
              "      <th>mean</th>\n",
              "      <td>1479.6</td>\n",
              "      <td>1537.0</td>\n",
              "      <td>1418.3</td>\n",
              "      <td>1485.7</td>\n",
              "      <td>995277049.8</td>\n",
              "      <td>23814544563.1</td>\n",
              "    </tr>\n",
              "    <tr>\n",
              "      <th>std</th>\n",
              "      <td>2950.5</td>\n",
              "      <td>3093.0</td>\n",
              "      <td>2780.9</td>\n",
              "      <td>2959.3</td>\n",
              "      <td>2989273963.6</td>\n",
              "      <td>49711849959.5</td>\n",
              "    </tr>\n",
              "    <tr>\n",
              "      <th>min</th>\n",
              "      <td>68.5</td>\n",
              "      <td>74.6</td>\n",
              "      <td>65.5</td>\n",
              "      <td>68.4</td>\n",
              "      <td>2857830.0</td>\n",
              "      <td>779255000.0</td>\n",
              "    </tr>\n",
              "    <tr>\n",
              "      <th>25%</th>\n",
              "      <td>274.7</td>\n",
              "      <td>279.9</td>\n",
              "      <td>268.6</td>\n",
              "      <td>274.9</td>\n",
              "      <td>22832500.0</td>\n",
              "      <td>3890227500.0</td>\n",
              "    </tr>\n",
              "    <tr>\n",
              "      <th>50%</th>\n",
              "      <td>480.7</td>\n",
              "      <td>495.2</td>\n",
              "      <td>472.5</td>\n",
              "      <td>482.8</td>\n",
              "      <td>56122400.0</td>\n",
              "      <td>6840475000.0</td>\n",
              "    </tr>\n",
              "    <tr>\n",
              "      <th>75%</th>\n",
              "      <td>870.1</td>\n",
              "      <td>900.2</td>\n",
              "      <td>831.7</td>\n",
              "      <td>871.4</td>\n",
              "      <td>203559000.0</td>\n",
              "      <td>12502025000.0</td>\n",
              "    </tr>\n",
              "    <tr>\n",
              "      <th>max</th>\n",
              "      <td>19475.8</td>\n",
              "      <td>20089.0</td>\n",
              "      <td>18974.1</td>\n",
              "      <td>19497.4</td>\n",
              "      <td>23840900000.0</td>\n",
              "      <td>326141000000.0</td>\n",
              "    </tr>\n",
              "  </tbody>\n",
              "</table>\n",
              "</div>"
            ],
            "text/plain": [
              "         Open    High     Low   Close        Volume     Market Cap\n",
              "count  1760.0  1760.0  1760.0  1760.0        1517.0         1760.0\n",
              "mean   1479.6  1537.0  1418.3  1485.7   995277049.8  23814544563.1\n",
              "std    2950.5  3093.0  2780.9  2959.3  2989273963.6  49711849959.5\n",
              "min      68.5    74.6    65.5    68.4     2857830.0    779255000.0\n",
              "25%     274.7   279.9   268.6   274.9    22832500.0   3890227500.0\n",
              "50%     480.7   495.2   472.5   482.8    56122400.0   6840475000.0\n",
              "75%     870.1   900.2   831.7   871.4   203559000.0  12502025000.0\n",
              "max   19475.8 20089.0 18974.1 19497.4 23840900000.0 326141000000.0"
            ]
          },
          "metadata": {
            "tags": []
          },
          "execution_count": 73
        }
      ]
    },
    {
      "cell_type": "code",
      "metadata": {
        "colab": {
          "base_uri": "https://localhost:8080/"
        },
        "id": "bn8kjNTz2m8f",
        "outputId": "d2225dd9-c95c-4cb6-aa00-5c90caa947e3"
      },
      "source": [
        "# Check for null values across the dataframe\n",
        "btc.isnull().sum()"
      ],
      "execution_count": 79,
      "outputs": [
        {
          "output_type": "execute_result",
          "data": {
            "text/plain": [
              "Date            0\n",
              "Open            0\n",
              "High            0\n",
              "Low             0\n",
              "Close           0\n",
              "Volume        243\n",
              "Market Cap      0\n",
              "dtype: int64"
            ]
          },
          "metadata": {
            "tags": []
          },
          "execution_count": 79
        }
      ]
    }
  ]
}