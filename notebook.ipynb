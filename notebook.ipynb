{
  "nbformat": 4,
  "nbformat_minor": 0,
  "metadata": {
    "colab": {
      "name": "notebook.ipynb",
      "provenance": [],
      "collapsed_sections": [],
      "toc_visible": true,
      "authorship_tag": "ABX9TyMvkICEgutuIkfjqtV001cn",
      "include_colab_link": true
    },
    "kernelspec": {
      "name": "python3",
      "display_name": "Python 3"
    }
  },
  "cells": [
    {
      "cell_type": "markdown",
      "metadata": {
        "id": "view-in-github",
        "colab_type": "text"
      },
      "source": [
        "<a href=\"https://colab.research.google.com/github/ElPapi42/data-fresh/blob/master/notebook.ipynb\" target=\"_parent\"><img src=\"https://colab.research.google.com/assets/colab-badge.svg\" alt=\"Open In Colab\"/></a>"
      ]
    },
    {
      "cell_type": "code",
      "metadata": {
        "colab": {
          "base_uri": "https://localhost:8080/"
        },
        "id": "2gcyMYW9mH5M",
        "outputId": "7776a794-7cd9-4a45-b122-e25a22cfed11"
      },
      "source": [
        "# Mount gdrive\n",
        "from google.colab import drive\n",
        "drive.mount(\"/content/drive\")"
      ],
      "execution_count": 1,
      "outputs": [
        {
          "output_type": "stream",
          "text": [
            "Mounted at /content/drive\n"
          ],
          "name": "stdout"
        }
      ]
    },
    {
      "cell_type": "code",
      "metadata": {
        "id": "1pl0_PKrwCkP"
      },
      "source": [
        "# Copy csv to notebook runtime storage\n",
        "!cp '/content/drive/MyDrive/Datasets/bitcoin_price.csv' '/content/bitcoin_price.csv'"
      ],
      "execution_count": 2,
      "outputs": []
    },
    {
      "cell_type": "code",
      "metadata": {
        "id": "jaEtPIMzwGbQ"
      },
      "source": [
        "import pandas as pd"
      ],
      "execution_count": 4,
      "outputs": []
    },
    {
      "cell_type": "code",
      "metadata": {
        "id": "LcYNv7GWyNa3"
      },
      "source": [
        "# Load the dataset\n",
        "btc = pd.read_csv('/content/bitcoin_price.csv')"
      ],
      "execution_count": 6,
      "outputs": []
    },
    {
      "cell_type": "code",
      "metadata": {
        "colab": {
          "base_uri": "https://localhost:8080/",
          "height": 284
        },
        "id": "85CPN13Ny2Hp",
        "outputId": "95a569b8-efb3-4e11-dc5f-59b14eab4685"
      },
      "source": [
        "btc.describe()"
      ],
      "execution_count": 9,
      "outputs": [
        {
          "output_type": "execute_result",
          "data": {
            "text/html": [
              "<div>\n",
              "<style scoped>\n",
              "    .dataframe tbody tr th:only-of-type {\n",
              "        vertical-align: middle;\n",
              "    }\n",
              "\n",
              "    .dataframe tbody tr th {\n",
              "        vertical-align: top;\n",
              "    }\n",
              "\n",
              "    .dataframe thead th {\n",
              "        text-align: right;\n",
              "    }\n",
              "</style>\n",
              "<table border=\"1\" class=\"dataframe\">\n",
              "  <thead>\n",
              "    <tr style=\"text-align: right;\">\n",
              "      <th></th>\n",
              "      <th>Open</th>\n",
              "      <th>High</th>\n",
              "      <th>Low</th>\n",
              "      <th>Close</th>\n",
              "    </tr>\n",
              "  </thead>\n",
              "  <tbody>\n",
              "    <tr>\n",
              "      <th>count</th>\n",
              "      <td>1760.000000</td>\n",
              "      <td>1760.000000</td>\n",
              "      <td>1760.000000</td>\n",
              "      <td>1760.000000</td>\n",
              "    </tr>\n",
              "    <tr>\n",
              "      <th>mean</th>\n",
              "      <td>1479.574239</td>\n",
              "      <td>1536.991108</td>\n",
              "      <td>1418.251273</td>\n",
              "      <td>1485.747000</td>\n",
              "    </tr>\n",
              "    <tr>\n",
              "      <th>std</th>\n",
              "      <td>2950.457188</td>\n",
              "      <td>3092.950362</td>\n",
              "      <td>2780.859459</td>\n",
              "      <td>2959.265478</td>\n",
              "    </tr>\n",
              "    <tr>\n",
              "      <th>min</th>\n",
              "      <td>68.500000</td>\n",
              "      <td>74.560000</td>\n",
              "      <td>65.530000</td>\n",
              "      <td>68.430000</td>\n",
              "    </tr>\n",
              "    <tr>\n",
              "      <th>25%</th>\n",
              "      <td>274.730000</td>\n",
              "      <td>279.857500</td>\n",
              "      <td>268.640000</td>\n",
              "      <td>274.875000</td>\n",
              "    </tr>\n",
              "    <tr>\n",
              "      <th>50%</th>\n",
              "      <td>480.715000</td>\n",
              "      <td>495.195000</td>\n",
              "      <td>472.510000</td>\n",
              "      <td>482.810000</td>\n",
              "    </tr>\n",
              "    <tr>\n",
              "      <th>75%</th>\n",
              "      <td>870.085000</td>\n",
              "      <td>900.222500</td>\n",
              "      <td>831.682500</td>\n",
              "      <td>871.370000</td>\n",
              "    </tr>\n",
              "    <tr>\n",
              "      <th>max</th>\n",
              "      <td>19475.800000</td>\n",
              "      <td>20089.000000</td>\n",
              "      <td>18974.100000</td>\n",
              "      <td>19497.400000</td>\n",
              "    </tr>\n",
              "  </tbody>\n",
              "</table>\n",
              "</div>"
            ],
            "text/plain": [
              "               Open          High           Low         Close\n",
              "count   1760.000000   1760.000000   1760.000000   1760.000000\n",
              "mean    1479.574239   1536.991108   1418.251273   1485.747000\n",
              "std     2950.457188   3092.950362   2780.859459   2959.265478\n",
              "min       68.500000     74.560000     65.530000     68.430000\n",
              "25%      274.730000    279.857500    268.640000    274.875000\n",
              "50%      480.715000    495.195000    472.510000    482.810000\n",
              "75%      870.085000    900.222500    831.682500    871.370000\n",
              "max    19475.800000  20089.000000  18974.100000  19497.400000"
            ]
          },
          "metadata": {
            "tags": []
          },
          "execution_count": 9
        }
      ]
    },
    {
      "cell_type": "code",
      "metadata": {
        "colab": {
          "base_uri": "https://localhost:8080/",
          "height": 402
        },
        "id": "FlhOO1s0zkmP",
        "outputId": "85e3be5e-f8c3-4cc3-c8cb-700ff686e5b8"
      },
      "source": [
        "# Preprocess MarketCap from str to numeric type\n",
        "btc['Market Cap'] = btc['Market Cap'].map(lambda x: x.replace(',', ''))\n",
        "btc"
      ],
      "execution_count": 19,
      "outputs": [
        {
          "output_type": "execute_result",
          "data": {
            "text/html": [
              "<div>\n",
              "<style scoped>\n",
              "    .dataframe tbody tr th:only-of-type {\n",
              "        vertical-align: middle;\n",
              "    }\n",
              "\n",
              "    .dataframe tbody tr th {\n",
              "        vertical-align: top;\n",
              "    }\n",
              "\n",
              "    .dataframe thead th {\n",
              "        text-align: right;\n",
              "    }\n",
              "</style>\n",
              "<table border=\"1\" class=\"dataframe\">\n",
              "  <thead>\n",
              "    <tr style=\"text-align: right;\">\n",
              "      <th></th>\n",
              "      <th>Date</th>\n",
              "      <th>Open</th>\n",
              "      <th>High</th>\n",
              "      <th>Low</th>\n",
              "      <th>Close</th>\n",
              "      <th>Volume</th>\n",
              "      <th>Market Cap</th>\n",
              "    </tr>\n",
              "  </thead>\n",
              "  <tbody>\n",
              "    <tr>\n",
              "      <th>0</th>\n",
              "      <td>Feb 20, 2018</td>\n",
              "      <td>11231.80</td>\n",
              "      <td>11958.50</td>\n",
              "      <td>11231.80</td>\n",
              "      <td>11403.70</td>\n",
              "      <td>9,926,540,000</td>\n",
              "      <td>189536000000</td>\n",
              "    </tr>\n",
              "    <tr>\n",
              "      <th>1</th>\n",
              "      <td>Feb 19, 2018</td>\n",
              "      <td>10552.60</td>\n",
              "      <td>11273.80</td>\n",
              "      <td>10513.20</td>\n",
              "      <td>11225.30</td>\n",
              "      <td>7,652,090,000</td>\n",
              "      <td>178055000000</td>\n",
              "    </tr>\n",
              "    <tr>\n",
              "      <th>2</th>\n",
              "      <td>Feb 18, 2018</td>\n",
              "      <td>11123.40</td>\n",
              "      <td>11349.80</td>\n",
              "      <td>10326.00</td>\n",
              "      <td>10551.80</td>\n",
              "      <td>8,744,010,000</td>\n",
              "      <td>187663000000</td>\n",
              "    </tr>\n",
              "    <tr>\n",
              "      <th>3</th>\n",
              "      <td>Feb 17, 2018</td>\n",
              "      <td>10207.50</td>\n",
              "      <td>11139.50</td>\n",
              "      <td>10149.40</td>\n",
              "      <td>11112.70</td>\n",
              "      <td>8,660,880,000</td>\n",
              "      <td>172191000000</td>\n",
              "    </tr>\n",
              "    <tr>\n",
              "      <th>4</th>\n",
              "      <td>Feb 16, 2018</td>\n",
              "      <td>10135.70</td>\n",
              "      <td>10324.10</td>\n",
              "      <td>9824.82</td>\n",
              "      <td>10233.90</td>\n",
              "      <td>7,296,160,000</td>\n",
              "      <td>170960000000</td>\n",
              "    </tr>\n",
              "    <tr>\n",
              "      <th>...</th>\n",
              "      <td>...</td>\n",
              "      <td>...</td>\n",
              "      <td>...</td>\n",
              "      <td>...</td>\n",
              "      <td>...</td>\n",
              "      <td>...</td>\n",
              "      <td>...</td>\n",
              "    </tr>\n",
              "    <tr>\n",
              "      <th>1755</th>\n",
              "      <td>May 02, 2013</td>\n",
              "      <td>116.38</td>\n",
              "      <td>125.60</td>\n",
              "      <td>92.28</td>\n",
              "      <td>105.21</td>\n",
              "      <td>-</td>\n",
              "      <td>1292190000</td>\n",
              "    </tr>\n",
              "    <tr>\n",
              "      <th>1756</th>\n",
              "      <td>May 01, 2013</td>\n",
              "      <td>139.00</td>\n",
              "      <td>139.89</td>\n",
              "      <td>107.72</td>\n",
              "      <td>116.99</td>\n",
              "      <td>-</td>\n",
              "      <td>1542820000</td>\n",
              "    </tr>\n",
              "    <tr>\n",
              "      <th>1757</th>\n",
              "      <td>Apr 30, 2013</td>\n",
              "      <td>144.00</td>\n",
              "      <td>146.93</td>\n",
              "      <td>134.05</td>\n",
              "      <td>139.00</td>\n",
              "      <td>-</td>\n",
              "      <td>1597780000</td>\n",
              "    </tr>\n",
              "    <tr>\n",
              "      <th>1758</th>\n",
              "      <td>Apr 29, 2013</td>\n",
              "      <td>134.44</td>\n",
              "      <td>147.49</td>\n",
              "      <td>134.00</td>\n",
              "      <td>144.54</td>\n",
              "      <td>-</td>\n",
              "      <td>1491160000</td>\n",
              "    </tr>\n",
              "    <tr>\n",
              "      <th>1759</th>\n",
              "      <td>Apr 28, 2013</td>\n",
              "      <td>135.30</td>\n",
              "      <td>135.98</td>\n",
              "      <td>132.10</td>\n",
              "      <td>134.21</td>\n",
              "      <td>-</td>\n",
              "      <td>1500520000</td>\n",
              "    </tr>\n",
              "  </tbody>\n",
              "</table>\n",
              "<p>1760 rows × 7 columns</p>\n",
              "</div>"
            ],
            "text/plain": [
              "              Date      Open      High  ...     Close         Volume    Market Cap\n",
              "0     Feb 20, 2018  11231.80  11958.50  ...  11403.70  9,926,540,000  189536000000\n",
              "1     Feb 19, 2018  10552.60  11273.80  ...  11225.30  7,652,090,000  178055000000\n",
              "2     Feb 18, 2018  11123.40  11349.80  ...  10551.80  8,744,010,000  187663000000\n",
              "3     Feb 17, 2018  10207.50  11139.50  ...  11112.70  8,660,880,000  172191000000\n",
              "4     Feb 16, 2018  10135.70  10324.10  ...  10233.90  7,296,160,000  170960000000\n",
              "...            ...       ...       ...  ...       ...            ...           ...\n",
              "1755  May 02, 2013    116.38    125.60  ...    105.21              -    1292190000\n",
              "1756  May 01, 2013    139.00    139.89  ...    116.99              -    1542820000\n",
              "1757  Apr 30, 2013    144.00    146.93  ...    139.00              -    1597780000\n",
              "1758  Apr 29, 2013    134.44    147.49  ...    144.54              -    1491160000\n",
              "1759  Apr 28, 2013    135.30    135.98  ...    134.21              -    1500520000\n",
              "\n",
              "[1760 rows x 7 columns]"
            ]
          },
          "metadata": {
            "tags": []
          },
          "execution_count": 19
        }
      ]
    }
  ]
}